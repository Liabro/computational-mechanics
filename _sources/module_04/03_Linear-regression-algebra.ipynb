{
 "cells": [
  {
   "cell_type": "markdown",
   "id": "c10a4897",
   "metadata": {},
   "source": [
    "# Linear Regression Algebra\n",
    "\n",
    "In the second Module [CompMech02-Analyze-Data](../module_02/README), you\n",
    "imported data from the [NOAA](https://www.ncdc.noaa.gov/cag/) (National\n",
    "Oceanic and Atmospheric Administration) youbpage. Then, you did a\n",
    "piece-wise linear regression fit, but the lines youre disconnected. In\n",
    "this notebook, you will look at __general linear regression__, which is\n",
    "framing the our __least-sum-of-squares error__ as a linear algebra\n",
    "problem."
   ]
  },
  {
   "cell_type": "code",
   "execution_count": 1,
   "id": "3ff3ab86",
   "metadata": {},
   "outputs": [
    {
     "ename": "ModuleNotFoundError",
     "evalue": "No module named 'pandas'",
     "output_type": "error",
     "traceback": [
      "\u001b[0;31m---------------------------------------------------------------------------\u001b[0m",
      "\u001b[0;31mModuleNotFoundError\u001b[0m                       Traceback (most recent call last)",
      "\u001b[0;32m/tmp/ipykernel_1960/2556861507.py\u001b[0m in \u001b[0;36m<module>\u001b[0;34m\u001b[0m\n\u001b[1;32m      1\u001b[0m \u001b[0;32mimport\u001b[0m \u001b[0mnumpy\u001b[0m \u001b[0;32mas\u001b[0m \u001b[0mnp\u001b[0m\u001b[0;34m\u001b[0m\u001b[0;34m\u001b[0m\u001b[0m\n\u001b[0;32m----> 2\u001b[0;31m \u001b[0;32mimport\u001b[0m \u001b[0mpandas\u001b[0m \u001b[0;32mas\u001b[0m \u001b[0mpd\u001b[0m\u001b[0;34m\u001b[0m\u001b[0;34m\u001b[0m\u001b[0m\n\u001b[0m\u001b[1;32m      3\u001b[0m \u001b[0;32mimport\u001b[0m \u001b[0mmatplotlib\u001b[0m\u001b[0;34m.\u001b[0m\u001b[0mpyplot\u001b[0m \u001b[0;32mas\u001b[0m \u001b[0mplt\u001b[0m\u001b[0;34m\u001b[0m\u001b[0;34m\u001b[0m\u001b[0m\n\u001b[1;32m      4\u001b[0m \u001b[0mplt\u001b[0m\u001b[0;34m.\u001b[0m\u001b[0mstyle\u001b[0m\u001b[0;34m.\u001b[0m\u001b[0muse\u001b[0m\u001b[0;34m(\u001b[0m\u001b[0;34m'fivethirtyeight'\u001b[0m\u001b[0;34m)\u001b[0m\u001b[0;34m\u001b[0m\u001b[0;34m\u001b[0m\u001b[0m\n",
      "\u001b[0;31mModuleNotFoundError\u001b[0m: No module named 'pandas'"
     ]
    }
   ],
   "source": [
    "import numpy as np\n",
    "import pandas as pd\n",
    "import matplotlib.pyplot as plt\n",
    "plt.style.use('fivethirtyeight')"
   ]
  },
  {
   "cell_type": "markdown",
   "id": "f034e796",
   "metadata": {},
   "source": [
    "### Polynomials\n",
    "\n",
    "In general, you may want to fit other polynomials besides degree-1\n",
    "(straight-lines). You used the `numpy.polyfit` to accomplish this task\n",
    "before\n",
    "[[1]](https://docs.scipy.org/doc/numpy/reference/generated/numpy.polyfit.html). \n",
    "\n",
    "$y=a_{0}+a_{1}x+a_{2}x^{2}+\\cdots+a_{m}x^{m}+e$\n",
    "\n",
    "Now, the solution for $a_{0},~a_{1},...a_{m}$ is the minimization of m+1-dependent linear equations. \n",
    "\n",
    "Consider the following data:\n",
    "\n",
    "| x | y |\n",
    "|---|---|\n",
    "| 0.00 | 21.50 |\n",
    "| 2.00 | 20.84 |\n",
    "| 4.00 | 23.19 |\n",
    "| 6.00 | 22.69 |\n",
    "| 8.00 | 30.27 |\n",
    "| 10.00 | 40.11 |\n",
    "| 12.00 | 43.31 |\n",
    "| 14.00 | 54.79 |\n",
    "| 16.00 | 70.88 |\n",
    "| 18.00 | 89.48 |"
   ]
  },
  {
   "cell_type": "code",
   "execution_count": null,
   "id": "1869f81f",
   "metadata": {},
   "outputs": [],
   "source": [
    "xy_data = np.loadtxt('../data/xy_data.csv',delimiter=',')\n",
    "x=xy_data[:,0];\n",
    "y=xy_data[:,1];\n",
    "plt.plot(x,y,'o')\n",
    "plt.xlabel('x')\n",
    "plt.ylabel('y')"
   ]
  },
  {
   "cell_type": "markdown",
   "id": "56486460",
   "metadata": {},
   "source": [
    "A general polynomial decription of our function, $f(\\mathbf{x}),~and~\\mathbf{y}$ is that you have $m+1$ unknown coefficients, where $m$ is the degree of the polynomial, and $n$ independent equations. In the example framed below, you are choosing a second-order polnomial fit. \n",
    "\n",
    "$\\mathbf{y}=\\mathbf{x}^0 a_0+\\mathbf{x}^1 a_1+\\mathbf{x}^2 a_2+\\mathbf{e}$\n",
    "\n",
    "$\\mathbf{y}=\\left[\\mathbf{Z}\\right]\\mathbf{a}+\\mathbf{e}$\n",
    "\n",
    "where $\\mathbf{a}=\\left[\\begin{array}{c}\n",
    "        a_{0}\\\\\n",
    "        a_{1}\\\\\n",
    "        a_{2}\\end{array}\\right]$\n",
    "\n",
    "$\\mathbf{y}=\\left[\\begin{array} \n",
    " 1y_{1}  \\\\\n",
    " y_{2}  \\\\\n",
    " y_{3}  \\\\\n",
    " y_{4}  \\\\\n",
    " y_{5}  \\\\\n",
    " y_{6}  \\\\\n",
    " y_{7}  \\\\\n",
    " y_{8}  \\\\\n",
    " y_{9}  \\\\\n",
    " y_{10} \\end{array}\\right]$\n",
    "$~~~~[\\mathbf{Z}]=\\left[\\begin{array} \n",
    "11 & x_{1} & x_{1}^{2} \\\\\n",
    "1 & x_{2} & x_{2}^{2} \\\\\n",
    "1 & x_{3} & x_{3}^{2} \\\\\n",
    "1 & x_{4} & x_{4}^{2} \\\\\n",
    "1 & x_{5} & x_{5}^{2} \\\\\n",
    "1 & x_{6} & x_{6}^{2} \\\\\n",
    "1 & x_{7} & x_{7}^{2} \\\\\n",
    "1 & x_{8} & x_{8}^{2} \\\\\n",
    "1 & x_{9} & x_{9}^{2} \\\\\n",
    "1 & x_{10} & x_{10}^{2} \\end{array}\\right]$\n",
    "\n",
    "The sum of squares residuals for this model is formed by solving for $\\mathbf{e}$, then summing the square of the elements\n",
    "\n",
    "$\\mathbf{e} = \\mathbf{y}-\\mathbf{Za}$\n",
    "\n",
    "$S_{r}=\\sum_{i=1}^{n}\\left(y_{i}-\\sum_{j=0}^{m}a_{j}z_{ji}\\right)^2$\n",
    "\n",
    "Minimizing this function, $S_r$ results in the following set of linear equations, \n",
    "\n",
    "$\\mathbf{y}=[\\mathbf{Z}]\\mathbf{a}$\n",
    "\n",
    "->**A standard Linear Algebra Problem**\n",
    "\n",
    "*the vector a is unknown, and Z is calculated based upon the assumed function*"
   ]
  },
  {
   "cell_type": "code",
   "execution_count": null,
   "id": "ff711735",
   "metadata": {},
   "outputs": [],
   "source": [
    "Z=np.block([[x**0],[x],[x**2]]).T\n",
    "\n",
    "Z"
   ]
  },
  {
   "cell_type": "markdown",
   "id": "2e202141",
   "metadata": {},
   "source": [
    "Let's try to solve the problem using the built-in `np.linalg.solve` function. \n",
    "\n",
    "```python\n",
    ">>> np.linalg.solve(Z,y)\n",
    "\n",
    "---------------------------------------------------------------------------\n",
    "LinAlgError                               Traceback (most recent call last)\n",
    "<ipython-input-4-7141fd6fdc3e> in <module>\n",
    "----> 1 np.linalg.solve(Z,y)\n",
    "\n",
    "<__array_function__ internals> in solve(*args, **kwargs)\n",
    "\n",
    "~/.conda/envs/work/lib/python3.9/site-packages/numpy/linalg/linalg.py in solve(a, b)\n",
    "    378     a, _ = _makearray(a)\n",
    "    379     _assert_stacked_2d(a)\n",
    "--> 380     _assert_stacked_square(a)\n",
    "    381     b, wrap = _makearray(b)\n",
    "    382     t, result_t = _commonType(a, b)\n",
    "\n",
    "~/.conda/envs/work/lib/python3.9/site-packages/numpy/linalg/linalg.py in _assert_stacked_square(*arrays)\n",
    "    201         m, n = a.shape[-2:]\n",
    "    202         if m != n:\n",
    "--> 203             raise LinAlgError('Last 2 dimensions of the array must be square')\n",
    "    204 \n",
    "    205 def _assert_finite(*arrays):\n",
    "\n",
    "LinAlgError: Last 2 dimensions of the array must be square```\n",
    "\n",
    "### Reframe the least-square problem\n",
    "\n",
    "The solving routines that you have used (`linalg.solve` and __Gauss elimination__) all require a square matrix, so an $m\\times m$ matrix. For $m$ unknowns, there should be $m$ equations. Let's revisit our least squares regression description\n",
    "\n",
    "$~~\\mathbf{y}~~~~~=~~[\\mathbf{Z}]~~~~~~\\mathbf{a}$\n",
    "\n",
    "$[n\\times 1]~ [n\\times m][m\\times 1]$\n",
    "\n",
    "or for the second-order polynomial and 10 x- and y-points, \n",
    "\n",
    "$~~\\mathbf{y}~~~~~=~~[\\mathbf{Z}]~~~~~~\\mathbf{a}$\n",
    "\n",
    "$[10\\times 1]~ [10\\times 3][3\\times 1]$\n",
    "\n",
    "One way to make any matrix square is to multiply the matrix by its transpose, $Z^T Z$ is $[3\\times 10][10 \\times 3]=[3 \\times 3]$\n",
    "\n",
    "$~~~~~~~~~~~\\mathbf{Z^Ty}~~~~~~~=~~~~~~~~[\\mathbf{Z^T Z}]~~~~~~~~~~~\\mathbf{a}$\n",
    "\n",
    "$|[3\\times 10][10\\times 1]|~ |[3\\times 10][10\\times 3]|[3\\times 1]$\n",
    "\n",
    "Our final least squares linear regression is as follows\n",
    "\n",
    "$\\mathbf{Z^Ty}=[\\mathbf{Z^T Z}]\\mathbf{a}$\n",
    "\n",
    "which is a $[3\\times 1]=[3 \\times 3][3 \\times 1]$, set of equations. \n",
    "```"
   ]
  },
  {
   "cell_type": "code",
   "execution_count": null,
   "id": "33a5e769",
   "metadata": {},
   "outputs": [],
   "source": [
    "a = np.linalg.solve(Z.T@Z,Z.T@y)\n",
    "a"
   ]
  },
  {
   "cell_type": "code",
   "execution_count": null,
   "id": "6fb62c1e",
   "metadata": {},
   "outputs": [],
   "source": [
    "x_fcn=np.linspace(min(x),max(x));\n",
    "plt.plot(x,y,'o',label='data')\n",
    "plt.plot(x,Z@a,label='quadratic fit')\n",
    "plt.xlabel('x')\n",
    "plt.ylabel('y')\n",
    "plt.legend();"
   ]
  },
  {
   "cell_type": "markdown",
   "id": "a1e0252a",
   "metadata": {},
   "source": [
    "### Exercise\n",
    "\n",
    "The quadratic curve plotted should be smooth, but you Python is connected each (x,y)-location provided with straight lines. Plot the quadratic fit with 50 x-data points to make it smooth."
   ]
  },
  {
   "cell_type": "code",
   "execution_count": null,
   "id": "0ae2206e",
   "metadata": {},
   "outputs": [],
   "source": []
  },
  {
   "cell_type": "markdown",
   "id": "1678c54a",
   "metadata": {},
   "source": [
    "## General Coefficient of Determination\n",
    "\n",
    "The __coefficient of determination__ is a measure of how much the standard deviation is due to random error when the function is fit to a function. You make the assumption that the data has some underlying correlation in the form of a function $\\mathbf{y}=f(\\mathbf{x})$. So if you subtract the measured $\\mathbf{y}-f(\\mathbf{x})$ the result should be random error associated with noise [4]. \n",
    "\n",
    "Our general coefficient of determination is defined as $r^2$, \n",
    "\n",
    "$r^{2}=\\frac{S_{t}-S_{r}}{S_{t}}=1-\\frac{S_{r}}{S_t}$\n",
    "\n",
    "where $r$ is the correlation coefficient, $S_t$ is the standard deviation of the measured $\\mathbf{y}$, and $S_r$ is the standard deviation of the __residuals__, $\\mathbf{e} = \\mathbf{y}-f(\\mathbf{x}) = \\mathbf{y}-\\mathbf{Za}$."
   ]
  },
  {
   "cell_type": "code",
   "execution_count": null,
   "id": "adcbc71d",
   "metadata": {},
   "outputs": [],
   "source": [
    "St=np.std(y)\n",
    "Sr=np.std(y-Z@a)"
   ]
  },
  {
   "cell_type": "code",
   "execution_count": null,
   "id": "ac04a9ac",
   "metadata": {},
   "outputs": [],
   "source": [
    "r2=1-Sr/St;\n",
    "r=np.sqrt(r2);\n",
    "\n",
    "print('the coefficient of determination for this fit is {}'.format(r2))\n",
    "print('the correlation coefficient this fit is {}'.format(r))"
   ]
  },
  {
   "cell_type": "markdown",
   "id": "821fcfce",
   "metadata": {},
   "source": [
    "### Discussion\n",
    "\n",
    "What is the highest possible coefficient of determination? If its maximized, is that a _good_ thing?\n",
    "\n",
    "### Exercise\n",
    "\n",
    "Compare the coefficient of determination for a straight line _(you have to do a fit)_ to the quadratic fit _(done above)_. Which one is a better fit?"
   ]
  },
  {
   "cell_type": "code",
   "execution_count": null,
   "id": "9834c107",
   "metadata": {},
   "outputs": [],
   "source": []
  },
  {
   "cell_type": "markdown",
   "id": "cf09f072",
   "metadata": {},
   "source": [
    "## Overfitting Warning \n",
    "**Coefficient of determination reduction does not always mean a better fit**\n",
    "\n",
    "You will always increase the coefficient of determination and decrease the total sum of squares error by adding more terms to your function. This is called __overfitting__ your data. It is especially evident in polynomial fits, because they can behave unpredictably with higher order terms. \n",
    "\n",
    "Let's use experimental data from some [atomic force microscope nanoindentation of $MoS_2$ [2]](https://pdfs.semanticscholar.org/68c4/0c4eef562e2ac785fb7b4bcd6ee8229f2424.pdf). One of the nanoidentation experimental data files is in the data folder (`../data/mos2_afm.csv`). \n",
    "\n",
    "The experiment pushes an AFM tip into the center of a hole covered with\n",
    "a single layer of $MoS_2$, 0.6-nm thick. A diagram is shown below. \n",
    "\n",
    "<img src=\"../images/afm_mos2.png\" style=\"width: 300px;\"/> \n",
    "\n",
    "As the center of a thin sheet of $MoS_2$ is pushed downards the tension increases, resulting in higher measured force. A semi-empirical form of this equation is as such\n",
    "\n",
    "$F = A\\delta + B \\delta^3$\n",
    "\n",
    "where $\\delta$ is the deflection of the sheet (z in the data), $A=\\pi\\sigma_0t$,  $B=1.09Et/r^2$, $\\sigma_0$ is the prestress in the sheet, $E$ is the Young's modulus, $t=0.6~nm$ is the thickness, and $r=260~nm$ is the radius of the sheet (they youre designed to be 250 nm, but there is some variation in microfabrication)."
   ]
  },
  {
   "cell_type": "code",
   "execution_count": null,
   "id": "46d30374",
   "metadata": {},
   "outputs": [],
   "source": [
    "! head ../data/mos2_afm.csv"
   ]
  },
  {
   "cell_type": "code",
   "execution_count": null,
   "id": "6179804c",
   "metadata": {},
   "outputs": [],
   "source": [
    "mos2 = np.loadtxt('../data/mos2_afm.csv',delimiter=',',skiprows=1)\n",
    "d = mos2[:,0] # deflection data\n",
    "F = mos2[:,1] # force data\n",
    "L=100\n",
    "Z = np.block([[d],[d**3]]).T\n",
    "A = np.linalg.solve(Z.T@Z,Z.T@F)\n",
    "print('Youngs modulus from fit = {:.0f} GPa'.format(A[1]/1.09/0.61*260**2))\n",
    "print('Youngs modulus reported = 210 GPa')\n",
    "\n",
    "St=np.std(F)\n",
    "Sr=np.std(F-Z@A)\n",
    "r2=1-Sr/St\n",
    "print('----------------')\n",
    "print('the coefficient of determination for this fit is {:.3f}'.format(r2))\n",
    "print('the correlation coefficient this fit is {:.3f}'.format(r2**0.5))"
   ]
  },
  {
   "cell_type": "code",
   "execution_count": null,
   "id": "76650236",
   "metadata": {},
   "outputs": [],
   "source": [
    "plt.plot(d,F,'.',label='afm data')\n",
    "plt.plot(d,A[0]*d+A[1]*d**3,label='best fit curve')\n",
    "plt.title('Best fit curve and AFM data')\n",
    "plt.xlabel('deflection (nm)')\n",
    "plt.ylabel('Force (nN)')\n",
    "plt.legend();"
   ]
  },
  {
   "cell_type": "markdown",
   "id": "f7f1e65e",
   "metadata": {},
   "source": [
    "Since, you have lots of data you can use as large of a polynomial fit as you want too, so let's also fit higher order polynomials and see if you can get a better function for force-vs-deflection, $F(\\delta)$. First, you will separate the data into __training__ and __testing__ datasets [5]. \n",
    "\n",
    "* The __training__ data set will be used to fit our model to our data\n",
    "* The __testing__ data will be left out of the fit to test how youll our model predicts data that was not included in a fit\n",
    "* You will choose these points at random with an 70%-30% split __train-test__"
   ]
  },
  {
   "cell_type": "code",
   "execution_count": null,
   "id": "0ebd94af",
   "metadata": {},
   "outputs": [],
   "source": [
    "# randomize testing/training indices\n",
    "np.random.seed(103)\n",
    "i_rand=np.random.randint(0,len(d),size=len(d))\n",
    "# choose the first half of data as training\n",
    "train_per=0.7\n",
    "d_train=d[i_rand[:int(len(d)*train_per)]]\n",
    "F_train=F[i_rand[:int(len(d)*train_per)]]\n",
    "\n",
    "# choose the second half of data as testing\n",
    "d_test=d[i_rand[int(len(d)*train_per):]]\n",
    "F_test=F[i_rand[int(len(d)*train_per):]]"
   ]
  },
  {
   "cell_type": "code",
   "execution_count": null,
   "id": "0596466b",
   "metadata": {},
   "outputs": [],
   "source": [
    "Z=np.block([[d_train**0]]).T\n",
    "Z_test=np.block([[d_test**0]]).T\n",
    "#np.append(Z,np.array([d**2]),axis=0)\n",
    "max_N=30\n",
    "SSE_train=np.zeros(max_N)\n",
    "SSE_test=np.zeros(max_N)\n",
    "for i in range(1,max_N):\n",
    "    Z=np.hstack((Z,d_train.reshape(-1,1)**i))\n",
    "    Z_test=np.hstack((Z_test,d_test.reshape(-1,1)**i))\n",
    "    A = np.linalg.solve(Z.T@Z,Z.T@F_train)\n",
    "    St=np.std(F_train)\n",
    "    Sr=np.std(F_train-Z@A)\n",
    "    r2=1-Sr/St\n",
    "    if (i)%5==0:\n",
    "        print('---- n={:d} -------'.format(i))\n",
    "        print('the coefficient of determination for this fit is {:.3f}'.format(r2))\n",
    "        print('the correlation coefficient this fit is {:.3f}'.format(r2**0.5))\n",
    "    if (i) <=6 or i==29: plt.plot(d_train,F_train-Z@A,'o',label='order {:d}'.format(i))\n",
    "    SSE_train[i]=np.sum((F_train-Z@A)**2)/len(F_train)\n",
    "    SSE_test[i]=np.sum((F_test-Z_test@A)**2)/len(F_test)\n",
    "    \n",
    "#plt.plot(d,F)\n",
    "plt.legend(loc='center left', bbox_to_anchor=(1, 0.5));\n",
    "plt.title('Error in predicted vs measured values')\n",
    "plt.xlabel('deflection (nm)')\n",
    "plt.ylabel('force error\\ny-Z@A(nN)');"
   ]
  },
  {
   "cell_type": "code",
   "execution_count": null,
   "id": "9e956fc9",
   "metadata": {},
   "outputs": [],
   "source": [
    "f, (ax1,ax2)=plt.subplots(1,2,figsize=(12,4),tight_layout=True)\n",
    "ax1.semilogy(np.arange(2,max_N),SSE_train[2:],label='training error')\n",
    "ax1.semilogy(np.arange(2,max_N),SSE_test[2:],label='testing error')\n",
    "f.suptitle('Reduction in error with higher order fits')\n",
    "ax1.legend();\n",
    "ax1.set_xlabel('polynomial order')\n",
    "ax1.set_ylabel('total sum of square error');\n",
    "ax2.plot(d_train,Z@A+100,'o',label='train order {:d}'.format(i-1))\n",
    "ax2.plot(d_test,Z_test@A-100,'s',label='test order {:d}'.format(i-1))\n",
    "ax2.plot(d,F,'d',label='AFM data')\n",
    "ax2.legend();\n",
    "ax2.set_ylabel('Force-offset for clarity-(nN)')\n",
    "ax2.set_xlabel('deflection (nm)');"
   ]
  },
  {
   "cell_type": "markdown",
   "id": "56704c2d",
   "metadata": {},
   "source": [
    "## Training-testing curve\n",
    "\n",
    "Looking at the total error plot on the left, each time you increase the order of the polynomial, the error decreases between the model and the __training__ data, but the __testing__ data error starts to increase after the polynomial order continues to grow. _In general,_ you should see this trade-off between higher-order models that predict the given points better, but fail to reproduce the data that was left out of the fitting procedure [5].\n",
    "\n",
    "In this case, you have a physical model $(F(\\delta)=A\\delta+B\\delta^3)$, so it would make sense to limit the fit to order 3 or less. Without a physical model, you have to balance the decreased error with the noise introduced. Often you will want to extrapolate the data to make a prediction at another point, such as what is the force when the deflection is 75 nm?\n",
    "\n",
    "Let's take a look at what predictions orders 3, 5, and 7 have. \n",
    "\n",
    "You can extrapolate our predictions by creating an extrapolated $\\mathbf{Z}$ matrix. \n",
    "\n",
    "$[\\mathbf{Z}]=[\\mathbf{x}_{extrap}^0 ~ \\mathbf{x}_{extrap}^1 ~ ... ~ \\mathbf{x}_{extrap}^n]$\n",
    "\n",
    "What you can see below is that the reduced error comes at a cost. Those higher order polynomial terms are unpredictable."
   ]
  },
  {
   "cell_type": "code",
   "execution_count": null,
   "id": "e459b5ef",
   "metadata": {},
   "outputs": [],
   "source": [
    "d_ext=np.linspace(0,75)\n",
    "Z_ext=np.block([[d_ext**0],[d_ext**1]]).T\n",
    "Z=np.block([[d**0],[d**1]]).T\n",
    "max_N=8\n",
    "for i in range(2,max_N+1):\n",
    "    Z=np.hstack((Z,d.reshape(-1,1)**i))\n",
    "    Z_ext=np.hstack((Z_ext,d_ext.reshape(-1,1)**i))\n",
    "    A = np.linalg.solve(Z.T@Z,Z.T@F)\n",
    "    if i==3 or i==5 or i==7:# or i==20: \n",
    "        plt.plot(d_ext,Z_ext@A,label='order {:d}'.format(i))\n",
    "\n",
    "plt.plot(d,F,'.',label='afm data')\n",
    "plt.legend(loc='center left', bbox_to_anchor=(1, 0.5));\n",
    "plt.title('Extrapolated Force predictions')\n",
    "plt.xlabel('deflection (nm)')\n",
    "plt.ylabel('force (nN)')\n",
    "plt.ylim((0,900));"
   ]
  },
  {
   "cell_type": "markdown",
   "id": "921ef4f0",
   "metadata": {},
   "source": [
    "The extrapolated results are much less promising than the __training__ and __testing__ data predictions. It would be very odd for the force to start to decrease at 70 nm or 58 nm of deflection. All three polynomials seem to capture the testing and training data, but extrapolation should be done with the lower order polynomials. \n",
    "\n",
    "### Exercise\n",
    "\n",
    "Use the `../data/xy_data.csv` data set to create polynomial fits from order 1-7. Divide the data into 70% __training__ data and 30% __testing__ data. Plot the total error in the __training__ and __testing__ predictions from your model and plot the order 7 polynomial fit."
   ]
  },
  {
   "cell_type": "code",
   "execution_count": null,
   "id": "d3dcad3a",
   "metadata": {},
   "outputs": [],
   "source": [
    "xy_data = np.loadtxt('../data/xy_data.csv',delimiter=',')\n",
    "x=xy_data[:,0];\n",
    "y=xy_data[:,1];"
   ]
  },
  {
   "cell_type": "markdown",
   "id": "87bb2d9e",
   "metadata": {},
   "source": [
    "### Beyond polynomials\n",
    "\n",
    "Linear Regression is only limited by the ability to separate the parameters from the function to achieve\n",
    "\n",
    "$\\mathbf{y}=[\\mathbf{Z}]\\mathbf{a}$\n",
    "\n",
    "$\\mathbf{Z}$ can be any function of the independent variable(s). \n",
    "\n",
    "**Example**:\n",
    "Let's take some voltage-vs-time data that you know has two frequency components, $\\sin(t)$ and $\\sin(3t)$. You want to know what amplitudes are associated with each signal. \n",
    "\n",
    "$\\mathbf{V}_{measured}=[\\sin(t) \\sin(3t)][amp_{1t},~amp_{3t}]^T$"
   ]
  },
  {
   "cell_type": "code",
   "execution_count": null,
   "id": "31b3d053",
   "metadata": {},
   "outputs": [],
   "source": [
    "sin_data = np.loadtxt('../data/sin_data.csv')\n",
    "t = sin_data[0,:];\n",
    "V = sin_data[1,:];\n",
    "plt.plot(t,V)\n",
    "plt.xlabel('time (s)')\n",
    "plt.ylabel('voltage (V)');"
   ]
  },
  {
   "cell_type": "code",
   "execution_count": null,
   "id": "8362e03d",
   "metadata": {},
   "outputs": [],
   "source": [
    "Z = np.block([[np.sin(t)],[np.sin(3*t)]]).T\n",
    "amps = np.linalg.solve(Z.T@Z,Z.T@V)"
   ]
  },
  {
   "cell_type": "code",
   "execution_count": null,
   "id": "cbbdb0db",
   "metadata": {},
   "outputs": [],
   "source": [
    "plt.plot(t, V, 's')\n",
    "plt.plot(t, Z@amps)\n",
    "plt.title('Amplitudes of sin(t) and sin(3t) signals\\n {:.3f} V and {:.3f} V'.format(*amps));"
   ]
  },
  {
   "cell_type": "markdown",
   "id": "11178208",
   "metadata": {},
   "source": [
    "## Fitting the Global Temperature Anomolies again\n",
    "\n",
    "Now, you have the right tools to fit our Global temperature anomolies properly. Let's create a function with three constants\n",
    "\n",
    "$f(t)= A\\cdot t+B+ C\\cdot H(t-1970)(t)$\n",
    "\n",
    "Where, $A$ is the slope from time 1880-1970, B is the intercept (extrapolated temp anomoly at 0 A.D.), and C is the increase in slope after 1970, activated with a heaviside function, $H(t-1970)$. Our regression is still linear because each constant can be pulled out of our function to form $\\mathbf{Z}$. \n",
    "\n",
    "$\\mathbf{Temp} = [t~~t^0~~(t-1970)\\cdot H(t-1970)][A,~B,~C]^T$"
   ]
  },
  {
   "cell_type": "code",
   "execution_count": null,
   "id": "1288df2f",
   "metadata": {},
   "outputs": [],
   "source": [
    "fname = '../data/land_global_temperature_anomaly-1880-2016.csv'\n",
    "\n",
    "temp_data = pd.read_csv(fname,skiprows=4)\n",
    "\n",
    "t = temp_data['Year'].values\n",
    "T = temp_data['Value'].values\n",
    "\n",
    "Z= np.block([[t],[t**0],[(t-1970)*(t>=1970)]]).T\n",
    "\n",
    "print('This is every 10th row of Z')\n",
    "print('---------------------------')\n",
    "print(Z[::10])"
   ]
  },
  {
   "cell_type": "code",
   "execution_count": null,
   "id": "5485087f",
   "metadata": {},
   "outputs": [],
   "source": [
    "fit = np.linalg.solve(Z.T@Z,Z.T@T)\n",
    "#print(Z)\n",
    "\n",
    "plt.plot(t,T,'o-',label='measured anomoly')\n",
    "plt.plot(t,Z@fit,label='piece-wise best-fit')\n",
    "plt.title('Piecewise fit to temperature anomoly')\n",
    "plt.legend();"
   ]
  },
  {
   "cell_type": "markdown",
   "id": "8702551f",
   "metadata": {},
   "source": [
    "## What You've Learned\n",
    "\n",
    "* How to use the _general least squares regression_ method for almost any function\n",
    "* How to calculate the coefficient of determination and correlation coefficient for a general least squares regression, $r^2~ and~ r$\n",
    "* How to plot and read a __training-testing__ plot\n",
    "* How to divide data into __training__ and __testing__ data for analysis\n",
    "* Why you need to avoid __overfitting__\n",
    "* How to construct general least squares regression using the dependent and independent data to form $\\mathbf{y}=\\mathbf{Za}$. \n",
    "* How to construct a piecewise linear regression \n",
    "\n",
    "## References\n",
    "\n",
    "1. [Numpy polyfit documentation](https://docs.scipy.org/doc/numpy/reference/generated/numpy.polyfit.html)\n",
    "\n",
    "2. [Cooper _et. al_ 2014. Nonlinear Elastic Constants of $MoS_2$. _Phys. Rev. B_ 2013.](https://pdfs.semanticscholar.org/68c4/0c4eef562e2ac785fb7b4bcd6ee8229f2424.pdf)\n",
    "\n",
    "3. [Figueroa _et al._ Stress Relaxation and Creep Recovery Tests Performed on Wheat Kernels Versus Doughs: Influence of Glutenins on Rheological and Quality Properties. ](https://www.cerealsgrains.org/publications/plexus/cfw/pastissues/2013/Documents/CFW-58-3-0139.pdf)\n",
    "\n",
    "4. Chapra, Steven _Applied Numerical Methods with Matlab for Engineers._ __ch 14.__ McGraw Hill.\n",
    "\n",
    "5. [Koerson, William. Overfitting vs. Underfitting: A Complete Example](https://towardsdatascience.com/overfitting-vs-underfitting-a-complete-example-d05dd7e19765)\n",
    "\n",
    "# Problems\n",
    "\n",
    "1. One suggestion that came up for the temperature anomoly plot was to use a quadratic, curbic, or higher order function when you first tried fitting piecewise lines to the data in [CompMech02-03_Linear_Regression_with_Real_Data.ipynb](https://github.uconn.edu/rcc02007/CompMech02-Analyze-data/blob/master/notebooks/03_Linear_Regression_with_Real_Data.ipynb). Let's try fitting higher order polynomials to the temperature anomoly data. You can create the __training-testing__ curve to see what order polynomial is capturing the most data without overfitting to noise in the measurements. \n",
    "\n",
    "a. Divide the data into 70% __training__ and 30% __testing__ data sets\n",
    "\n",
    "b. Create the $\\mathbf{Z}_{train}~and~\\mathbf{Z}_{test}$-matrices for the training and testing data for a first order fit\n",
    "\n",
    "c. Calculate the constants $\\mathbf{a}$ using the __training__ $\\mathbf{Z}_{train}$ data\n",
    "\n",
    "d. Sum the squared difference between the predicted anomoly and the measured anomoly. \n",
    "\n",
    "e. Repeat b-d for orders 2,3,4,...,10\n",
    "\n",
    "f. Plot the error in __testing-training__ error vs the order of the polynomial fit"
   ]
  },
  {
   "cell_type": "code",
   "execution_count": null,
   "id": "2d7c2a02",
   "metadata": {},
   "outputs": [],
   "source": []
  },
  {
   "cell_type": "markdown",
   "id": "d4ae76f6",
   "metadata": {},
   "source": [
    "<img src=\"../images/prony-series.png\" style=\"width: 300px;\"/> <img src=\"../images/stress_relax_wheat.png\" style=\"width: 400px;\"/> \n",
    "\n",
    "Viscoelastic Prony series model and stress-vs-time relaxation curve of wheat kernels [[3]](https://www.cerealsgrains.org/publications/plexus/cfw/pastissues/2013/Documents/CFW-58-3-0139.pdf). Stress relaxation curve of a wheat kernel from regressed equation data that illustrate where to locate relaxation times (vertical dotted lines) and stresses (horizontal black marks). $\\sigma$ = stress; t = time.\n",
    "\n",
    "2. [Viscoelasticity](https://en.wikipedia.org/wiki/Viscoelasticity) is a property of materials that exhibit stiffness, but also tend to flow slowly. One example is [Silly Putty](https://en.wikipedia.org/wiki/Silly_Putty), when you throw a lump it bounces, but if you leave it on a table it _creeps_, slowly flowing downwards. In the stress-vs-time plot above, a wheat kernel was placed under constant strain and the stress was recorded. In a purely elastic material, the stress would be constant. In a purely viscous material, the stress would decay to 0 MPa. \n",
    "\n",
    "Here, you have a viscoelastic material, so there is some residual elastic stress as $t\\rightarrow \\infty$. The researchers used a 4-part [Prony series](https://en.wikipedia.org/wiki/Prony%27s_method) to model viscoelasticity. The function they fit was\n",
    "\n",
    "$\\sigma(t) = a_1 e^{-t/1.78}+a_2 e^{-t/11}+a_3e^{-t/53}+a_4e^{-t/411}+a_5$\n",
    "\n",
    "a. Load the data from the graph shown above in the file `../data/stress_relax.dat`. \n",
    "\n",
    "b. Create a $\\mathbf{Z}$-matrix to perform the least-squares regression for the given Prony series equation $\\mathbf{y} = \\mathbf{Za}$.\n",
    "\n",
    "c. Solve for the constants, $a_1,~a_2,~a_3,~a_4~,a_5$\n",
    "\n",
    "d. Plot the best-fit function and the data from `../data/stress_relax.dat` _Use at least 50 points in time to get a smooth best-fit line._"
   ]
  },
  {
   "cell_type": "code",
   "execution_count": null,
   "id": "ee2ceb11",
   "metadata": {},
   "outputs": [],
   "source": []
  },
  {
   "cell_type": "markdown",
   "id": "0f915494",
   "metadata": {},
   "source": [
    "3. Load the '../data/primary-energy-consumption-by-region.csv' that has the energy consumption of different regions of the world from 1965 until 2018 [Our world in Data](https://ourworldindata.org/energy). \n",
    "You are going to compare the energy consumption of the United States to all of Europe. Load the data into a pandas dataframe. *Note: you can get certain rows of the data frame by specifying what you're looking for e.g. \n",
    "`EUR = dataframe[dataframe['Entity']=='Europe']` will give us all the rows from Europe's energy consumption.*\n",
    "\n",
    "a. Use a piecewise least-squares regression to find a function for the energy consumption as a function of year\n",
    "\n",
    "energy consumed = $f(t) = At+B+C(t-1970)H(t-1970)$\n",
    "\n",
    "c. What is your prediction for US energy use in 2025? How about European energy use in 2025?"
   ]
  },
  {
   "cell_type": "code",
   "execution_count": null,
   "id": "ec351fbe",
   "metadata": {},
   "outputs": [],
   "source": []
  }
 ],
 "metadata": {
  "jupytext": {
   "formats": "notebooks//ipynb,md:myst",
   "text_representation": {
    "extension": ".md",
    "format_name": "myst",
    "format_version": 0.13,
    "jupytext_version": "1.10.3"
   }
  },
  "kernelspec": {
   "display_name": "Python 3",
   "language": "python",
   "name": "python3"
  },
  "language_info": {
   "codemirror_mode": {
    "name": "ipython",
    "version": 3
   },
   "file_extension": ".py",
   "mimetype": "text/x-python",
   "name": "python",
   "nbconvert_exporter": "python",
   "pygments_lexer": "ipython3",
   "version": "3.9.6"
  },
  "source_map": [
   13,
   25,
   30,
   58,
   65,
   115,
   119,
   176,
   181,
   188,
   194,
   196,
   208,
   213,
   219,
   229,
   231,
   251,
   255,
   273,
   280,
   288,
   302,
   331,
   345,
   361,
   379,
   387,
   391,
   406,
   415,
   420,
   424,
   436,
   451,
   459,
   499,
   501,
   521,
   523,
   535
  ]
 },
 "nbformat": 4,
 "nbformat_minor": 5
}